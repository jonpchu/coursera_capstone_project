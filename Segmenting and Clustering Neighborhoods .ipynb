{
    "nbformat_minor": 1, 
    "cells": [
        {
            "execution_count": 78, 
            "cell_type": "code", 
            "metadata": {}, 
            "outputs": [], 
            "source": "from bs4 import BeautifulSoup\nimport requests\nimport numpy as np\nimport pandas as pd\nimport csv"
        }, 
        {
            "source": "Code to pull in data from Wiki page", 
            "cell_type": "markdown", 
            "metadata": {}
        }, 
        {
            "execution_count": 79, 
            "cell_type": "code", 
            "metadata": {}, 
            "outputs": [], 
            "source": "source = requests.get('https://en.wikipedia.org/wiki/List_of_postal_codes_of_Canada:_M').text\nsoup = BeautifulSoup(source, 'lxml')"
        }, 
        {
            "source": "Code to pull in table from Wiki page", 
            "cell_type": "markdown", 
            "metadata": {}
        }, 
        {
            "execution_count": 80, 
            "cell_type": "code", 
            "metadata": {}, 
            "outputs": [], 
            "source": "table = soup.find('tbody')"
        }, 
        {
            "source": "Code to create a list with the table headings", 
            "cell_type": "markdown", 
            "metadata": {}
        }, 
        {
            "execution_count": 81, 
            "cell_type": "code", 
            "metadata": {}, 
            "outputs": [], 
            "source": "row = ['Postcode','Borough','Neighbourhood']"
        }, 
        {
            "source": "Code to add the data from the table to the list and converts the html data to text", 
            "cell_type": "markdown", 
            "metadata": {}
        }, 
        {
            "execution_count": 82, 
            "cell_type": "code", 
            "metadata": {}, 
            "outputs": [], 
            "source": "for trs in table.find_all('tr'):\n    for td in trs.find_all('td'):\n        td_text = td.text\n        row.append(td_text)"
        }, 
        {
            "source": "Code to format the list into a list with groups of three ", 
            "cell_type": "markdown", 
            "metadata": {}
        }, 
        {
            "execution_count": 83, 
            "cell_type": "code", 
            "metadata": {}, 
            "outputs": [], 
            "source": "n=3\nfinal = [row[i * n:(i + 1) * n] for i in range((len(row) + n - 1) // n )]  "
        }, 
        {
            "source": "Code to convert the list to a dataframe", 
            "cell_type": "markdown", 
            "metadata": {}
        }, 
        {
            "execution_count": 84, 
            "cell_type": "code", 
            "metadata": {}, 
            "outputs": [], 
            "source": "df_final = pd.DataFrame(final)\ndf_final[2] = df_final[2].apply(lambda x:x.strip('\\n'))"
        }, 
        {
            "source": "Code to remove the \"Not assigned\" rows in the Borough column", 
            "cell_type": "markdown", 
            "metadata": {}
        }, 
        {
            "execution_count": 85, 
            "cell_type": "code", 
            "metadata": {}, 
            "outputs": [], 
            "source": "df_final = df_final[df_final[1]!='Not assigned']"
        }, 
        {
            "source": "Code to replace \"Not assigned\" in Neighborhood column with value in Borough column", 
            "cell_type": "markdown", 
            "metadata": {}
        }, 
        {
            "execution_count": 86, 
            "cell_type": "code", 
            "metadata": {}, 
            "outputs": [], 
            "source": "df_final[2] = np.where(df_final[2]=='Not assigned', df_final[1], df_final[2])"
        }, 
        {
            "source": "Code to move the header names from row 0 and makes them the header  ", 
            "cell_type": "markdown", 
            "metadata": {}
        }, 
        {
            "execution_count": 87, 
            "cell_type": "code", 
            "metadata": {}, 
            "outputs": [], 
            "source": "header = df_final.iloc[0]\ndf_final = df_final[1:]\ndf_final = df_final.rename(columns = header)"
        }, 
        {
            "source": "Code that combines Neighborhood names with the same PostalCode and Borough", 
            "cell_type": "markdown", 
            "metadata": {}
        }, 
        {
            "execution_count": 88, 
            "cell_type": "code", 
            "metadata": {}, 
            "outputs": [], 
            "source": "df_final = df_final.groupby(['Postcode','Borough']).agg({'Neighbourhood': lambda x:','.join(set(x))})"
        }, 
        {
            "source": "Code that resets the indexes", 
            "cell_type": "markdown", 
            "metadata": {}
        }, 
        {
            "execution_count": 89, 
            "cell_type": "code", 
            "metadata": {}, 
            "outputs": [], 
            "source": "df_final = df_final.reset_index()"
        }, 
        {
            "source": "Prints the header and values of the table and prints the shape of table", 
            "cell_type": "markdown", 
            "metadata": {}
        }, 
        {
            "execution_count": 90, 
            "cell_type": "code", 
            "metadata": {
                "scrolled": true
            }, 
            "outputs": [
                {
                    "output_type": "stream", 
                    "name": "stdout", 
                    "text": "    Postcode           Borough  \\\n0        M1B       Scarborough   \n1        M1C       Scarborough   \n2        M1E       Scarborough   \n3        M1G       Scarborough   \n4        M1H       Scarborough   \n5        M1J       Scarborough   \n6        M1K       Scarborough   \n7        M1L       Scarborough   \n8        M1M       Scarborough   \n9        M1N       Scarborough   \n10       M1P       Scarborough   \n11       M1R       Scarborough   \n12       M1S       Scarborough   \n13       M1T       Scarborough   \n14       M1V       Scarborough   \n15       M1W       Scarborough   \n16       M1X       Scarborough   \n17       M2H        North York   \n18       M2J        North York   \n19       M2K        North York   \n20       M2L        North York   \n21       M2M        North York   \n22       M2N        North York   \n23       M2P        North York   \n24       M2R        North York   \n25       M3A        North York   \n26       M3B        North York   \n27       M3C        North York   \n28       M3H        North York   \n29       M3J        North York   \n..       ...               ...   \n73       M6C              York   \n74       M6E              York   \n75       M6G  Downtown Toronto   \n76       M6H      West Toronto   \n77       M6J      West Toronto   \n78       M6K      West Toronto   \n79       M6L        North York   \n80       M6M              York   \n81       M6N              York   \n82       M6P      West Toronto   \n83       M6R      West Toronto   \n84       M6S      West Toronto   \n85       M7A      Queen's Park   \n86       M7R       Mississauga   \n87       M7Y      East Toronto   \n88       M8V         Etobicoke   \n89       M8W         Etobicoke   \n90       M8X         Etobicoke   \n91       M8Y         Etobicoke   \n92       M8Z         Etobicoke   \n93       M9A         Etobicoke   \n94       M9B         Etobicoke   \n95       M9C         Etobicoke   \n96       M9L        North York   \n97       M9M        North York   \n98       M9N              York   \n99       M9P         Etobicoke   \n100      M9R         Etobicoke   \n101      M9V         Etobicoke   \n102      M9W         Etobicoke   \n\n                                         Neighbourhood  \n0                                        Malvern,Rouge  \n1                 Port Union,Highland Creek,Rouge Hill  \n2                      Guildwood,Morningside,West Hill  \n3                                               Woburn  \n4                                            Cedarbrae  \n5                                  Scarborough Village  \n6            East Birchmount Park,Kennedy Park,Ionview  \n7                        Clairlea,Oakridge,Golden Mile  \n8        Cliffside,Scarborough Village West,Cliffcrest  \n9                           Birch Cliff,Cliffside West  \n10   Scarborough Town Centre,Dorset Park,Wexford He...  \n11                                    Wexford,Maryvale  \n12                                           Agincourt  \n13               Tam O'Shanter,Sullivan,Clarks Corners  \n14   Agincourt North,L'Amoreaux East,Milliken,Steel...  \n15                                     L'Amoreaux West  \n16                                         Upper Rouge  \n17                                   Hillcrest Village  \n18                          Fairview,Henry Farm,Oriole  \n19                                     Bayview Village  \n20                             York Mills,Silver Hills  \n21                              Willowdale,Newtonbrook  \n22                                    Willowdale South  \n23                                     York Mills West  \n24                                     Willowdale West  \n25                                           Parkwoods  \n26                                     Don Mills North  \n27                     Flemingdon Park,Don Mills South  \n28       Downsview North,Wilson Heights,Bathurst Manor  \n29                      Northwood Park,York University  \n..                                                 ...  \n73                                  Humewood-Cedarvale  \n74                                 Caledonia-Fairbanks  \n75                                            Christie  \n76                         Dovercourt Village,Dufferin  \n77                             Little Portugal,Trinity  \n78          Brockton,Parkdale Village,Exhibition Place  \n79                    Upwood Park,North Park,Downsview  \n80         Del Ray,Silverthorn,Mount Dennis,Keelesdale  \n81                        Runnymede,The Junction North  \n82                        High Park,The Junction South  \n83                               Parkdale,Roncesvalles  \n84                                   Runnymede,Swansea  \n85                                        Queen's Park  \n86               Canada Post Gateway Processing Centre  \n87   Business Reply Mail Processing Centre 969 Eastern  \n88          New Toronto,Mimico South,Humber Bay Shores  \n89                               Long Branch,Alderwood  \n90         Old Mill North,Montgomery Road,The Kingsway  \n91   Kingsway Park South East,Humber Bay,Royal York...  \n92   Kingsway Park South West,Mimico NW,The Queensw...  \n93                                    Islington Avenue  \n94   Princess Gardens,Islington,Cloverdale,Martin G...  \n95   Old Burnhamthorpe,Eringate,Markland Wood,Bloor...  \n96                                       Humber Summit  \n97                                     Humberlea,Emery  \n98                                              Weston  \n99                                           Westmount  \n100  Martin Grove Gardens,Richview Gardens,Kingsvie...  \n101  South Steeles,Mount Olive,Jamestown,Humbergate...  \n102                                          Northwest  \n\n[103 rows x 3 columns]\n"
                }, 
                {
                    "execution_count": 90, 
                    "metadata": {}, 
                    "data": {
                        "text/plain": "(103, 3)"
                    }, 
                    "output_type": "execute_result"
                }
            ], 
            "source": "print(df_final)\ndf_final.shape"
        }, 
        {
            "execution_count": null, 
            "cell_type": "code", 
            "metadata": {}, 
            "outputs": [], 
            "source": ""
        }, 
        {
            "execution_count": null, 
            "cell_type": "code", 
            "metadata": {}, 
            "outputs": [], 
            "source": ""
        }, 
        {
            "execution_count": null, 
            "cell_type": "code", 
            "metadata": {}, 
            "outputs": [], 
            "source": ""
        }
    ], 
    "metadata": {
        "kernelspec": {
            "display_name": "Python 3.6", 
            "name": "python3", 
            "language": "python"
        }, 
        "language_info": {
            "mimetype": "text/x-python", 
            "nbconvert_exporter": "python", 
            "version": "3.6.8", 
            "name": "python", 
            "file_extension": ".py", 
            "pygments_lexer": "ipython3", 
            "codemirror_mode": {
                "version": 3, 
                "name": "ipython"
            }
        }
    }, 
    "nbformat": 4
}